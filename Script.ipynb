{
 "cells": [
  {
   "cell_type": "code",
   "execution_count": 7,
   "id": "5185dbca",
   "metadata": {},
   "outputs": [],
   "source": [
    "import json\n",
    "import csv\n",
    "from datetime import datetime\n",
    "\n",
    "# Step 1: Define functions to read and parse JSON files\n",
    "def read_json_file(file_path):\n",
    "    with open(file_path, 'r') as file:\n",
    "        data = [json.loads(line) for line in file]\n",
    "    return data\n",
    "\n",
    "# Step 2: Read and parse the provided JSON files\n",
    "patients = read_json_file(\"Patient.ndjson\")\n",
    "conditions = read_json_file(\"Condition.ndjson\")\n",
    "encounters = read_json_file(\"Encounter.ndjson\")\n",
    "encounters_icu = read_json_file(\"EncounterICU.ndjson\")\n",
    "\n",
    "\n",
    "# Step 3: Create a dictionary to store conditions associated with each patient\n",
    "patient_conditions = {}\n",
    "\n",
    "# Associate conditions with patients\n",
    "for condition in conditions:\n",
    "    patient_id = condition['subject']['reference'].split('/')[-1]\n",
    "    if patient_id not in patient_conditions:\n",
    "        patient_conditions[patient_id] = []\n",
    "    patient_conditions[patient_id].append(condition)\n",
    "\n",
    "# Step 4: Associate estimated time for each condition using encounter start time\n",
    "def get_encounter_start_time(condition):\n",
    "    encounter_id = condition['encounter']['reference'].split('/')[-1]\n",
    "    for encounter in encounters:\n",
    "        if encounter['id'] == encounter_id:\n",
    "            return encounter['period']['start']\n",
    "    for encounter in encounters_icu:\n",
    "        if encounter['id'] == encounter_id:\n",
    "            return encounter['period']['start']\n",
    "    return None\n",
    "\n",
    "# Step 5: Generate CSV file with required columns\n",
    "with open('patient_conditions.csv', 'w', newline='') as csvfile:\n",
    "    fieldnames = ['pid', 'time', 'code', 'description']\n",
    "    writer = csv.DictWriter(csvfile, fieldnames=fieldnames)\n",
    "    writer.writeheader()\n",
    "\n",
    "    for patient_id, condition_list in patient_conditions.items():\n",
    "        for condition in condition_list:\n",
    "            start_time = get_encounter_start_time(condition)\n",
    "            if start_time:\n",
    "                unix_timestamp = datetime.fromisoformat(start_time).timestamp()\n",
    "                code = condition['code']['coding'][0]['code']\n",
    "                description = condition['code'].get('text', 'N/A')  # Using get() to handle missing 'text' key\n",
    "                writer.writerow({'pid': patient_id,\n",
    "                                 'time': int(unix_timestamp),\n",
    "                                 'code': code,\n",
    "                                 'description': description})\n"
   ]
  },
  {
   "cell_type": "code",
   "execution_count": null,
   "id": "0fe42667",
   "metadata": {},
   "outputs": [],
   "source": []
  }
 ],
 "metadata": {
  "kernelspec": {
   "display_name": "Python 3 (ipykernel)",
   "language": "python",
   "name": "python3"
  },
  "language_info": {
   "codemirror_mode": {
    "name": "ipython",
    "version": 3
   },
   "file_extension": ".py",
   "mimetype": "text/x-python",
   "name": "python",
   "nbconvert_exporter": "python",
   "pygments_lexer": "ipython3",
   "version": "3.9.13"
  }
 },
 "nbformat": 4,
 "nbformat_minor": 5
}
